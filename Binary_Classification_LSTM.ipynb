{
 "cells": [
  {
   "cell_type": "code",
   "execution_count": 1,
   "metadata": {},
   "outputs": [
    {
     "name": "stderr",
     "output_type": "stream",
     "text": [
      "Using TensorFlow backend.\n"
     ]
    }
   ],
   "source": [
    "# https://www.kaggle.com/shayanfazeli/heartbeat   # data set \n",
    "\n",
    "import pandas as pd \n",
    "import numpy as np\n",
    "import matplotlib.pyplot as plt # plotting\n",
    "import os\n",
    "import sklearn\n",
    "from keras.models import Sequential\n",
    "from keras.layers import Flatten, Dense, Dropout, BatchNormalization, AveragePooling2D\n",
    "from sklearn.model_selection import train_test_split\n",
    "from sklearn import svm\n",
    "from sklearn.metrics import classification_report, confusion_matrix\n",
    "from sklearn.metrics import accuracy_score, f1_score, precision_score, recall_score\n",
    "from sklearn.linear_model import LogisticRegression\n",
    "from sklearn.naive_bayes import GaussianNB\n",
    "from sklearn.linear_model import SGDClassifier\n",
    "from sklearn.neighbors import KNeighborsClassifier\n",
    "from sklearn.tree import DecisionTreeClassifier\n",
    "from sklearn.ensemble import RandomForestClassifier\n",
    "import scipy\n",
    "from imblearn.over_sampling import SMOTE\n",
    "from sklearn.model_selection import cross_validate"
   ]
  },
  {
   "cell_type": "code",
   "execution_count": 2,
   "metadata": {},
   "outputs": [],
   "source": [
    "# reading csv file  \n",
    "\n",
    "test=pd.read_csv(\"mitbih_test.csv\",header=None) \n",
    "train=pd.read_csv(\"mitbih_train.csv\",header=None) \n",
    "#Classes: ['N': 0, 'S': 1, 'V': 2, 'F': 3, 'Q': 4]\n",
    "# N- normal, S-supraventricular, V-ventricular, F-fusion, Q- unknown"
   ]
  },
  {
   "cell_type": "code",
   "execution_count": 3,
   "metadata": {},
   "outputs": [
    {
     "name": "stdout",
     "output_type": "stream",
     "text": [
      "Type\tCount\n",
      "0.0    72471\n",
      "4.0     6431\n",
      "2.0     5788\n",
      "1.0     2223\n",
      "3.0      641\n",
      "Name: 187, dtype: int64\n",
      "train shape :  (87554, 188)\n",
      "test shape :  (21892, 188)\n"
     ]
    }
   ],
   "source": [
    "print(\"Type\\tCount\")\n",
    "print((train[187]).value_counts())\n",
    "\n",
    "print(\"train shape : \",train.shape)\n",
    "print(\"test shape : \",test.shape)\n"
   ]
  },
  {
   "cell_type": "code",
   "execution_count": 4,
   "metadata": {},
   "outputs": [],
   "source": [
    "label_train=[]                              # making multiclass to binary class now labels_train containing either 0 or 1 \n",
    "for i in train.iloc[:,187] :\n",
    "  if i not in  [0.0]:\n",
    "    label_train.append(1)\n",
    "    #print(\"value is\",i)\n",
    "  else:\n",
    "    label_train.append(0)\n",
    "    #print(\"value\",i)\n",
    "    "
   ]
  },
  {
   "cell_type": "code",
   "execution_count": 5,
   "metadata": {},
   "outputs": [],
   "source": [
    "label_test=[]                              # making multiclass to binary class.now labels_test containing either 0 or 1 \n",
    "for i in test.iloc[:,187]:\n",
    "  if i not in  [0.0]:\n",
    "    label_test.append(1)\n",
    "    #print(\"value is\",i)\n",
    "  else:\n",
    "    label_test.append(0)\n",
    "    #print(\"value\",i)\n"
   ]
  },
  {
   "cell_type": "code",
   "execution_count": 6,
   "metadata": {},
   "outputs": [],
   "source": [
    "#create new df \n",
    "labels_train = pd.DataFrame({'col':label_train})\n",
    "#print (labels_train)\n",
    "\n",
    "labels_test = pd.DataFrame({'col':label_test})\n",
    "#print (labels_test)\n"
   ]
  },
  {
   "cell_type": "code",
   "execution_count": 7,
   "metadata": {},
   "outputs": [],
   "source": [
    "label_train=np.asarray(label_train)\n",
    "\n",
    "label_test=np.asarray(label_test)\n",
    "\n",
    "train[187] = labels_train    # replace labels column with binary labels\n",
    "test[187] =  labels_test"
   ]
  },
  {
   "cell_type": "code",
   "execution_count": 8,
   "metadata": {},
   "outputs": [
    {
     "name": "stdout",
     "output_type": "stream",
     "text": [
      "Count of all classes in training dataset\n",
      "Type\tCount\n",
      "0    72471\n",
      "1    15083\n",
      "Name: 187, dtype: int64\n",
      "*************************************\n",
      "Count of all classes in test dataset\n",
      "Type\tCount\n",
      "0    18118\n",
      "1     3774\n",
      "Name: 187, dtype: int64\n"
     ]
    }
   ],
   "source": [
    "print('Count of all classes in training dataset')\n",
    "print(\"Type\\tCount\")\n",
    "print((train[187]).value_counts())\n",
    "\n",
    "print('*************************************')\n",
    "\n",
    "print('Count of all classes in test dataset')\n",
    "print(\"Type\\tCount\")\n",
    "print((test[187]).value_counts())"
   ]
  },
  {
   "cell_type": "code",
   "execution_count": 16,
   "metadata": {},
   "outputs": [
    {
     "name": "stdout",
     "output_type": "stream",
     "text": [
      "train shape :  (87554, 188)\n",
      "test shape :  (21892, 188)\n",
      "feature_train shape :  (87554, 187)\n",
      "labels_train shape :  (87554,)\n",
      "feature_test shape :  (21892, 187)\n",
      "labels_test shape :  (21892,)\n"
     ]
    }
   ],
   "source": [
    "print(\"train shape : \",train.shape)\n",
    "print(\"test shape : \",test.shape)\n",
    "\n",
    "feature_train=train.iloc[:,0:187] \n",
    "#feature_train=train.iloc[:,3] \n",
    "print(\"feature_train shape : \",feature_train.shape)\n",
    "\n",
    "labels_train=train.iloc[:,187] \n",
    "print(\"labels_train shape : \",labels_train.shape)\n",
    "\n",
    "feature_test=test.iloc[:,0:187] \n",
    "#feature_test=test.iloc[:,3] \n",
    "print(\"feature_test shape : \",feature_test.shape)\n",
    "\n",
    "labels_test=test.iloc[:,187] \n",
    "print(\"labels_test shape : \",labels_test.shape)"
   ]
  },
  {
   "cell_type": "code",
   "execution_count": 17,
   "metadata": {},
   "outputs": [
    {
     "name": "stdout",
     "output_type": "stream",
     "text": [
      "(87554, 187)\n",
      "(21892, 187)\n"
     ]
    }
   ],
   "source": [
    "from sklearn.preprocessing import StandardScaler\n",
    "standardized_training_data=StandardScaler().fit_transform(feature_train)\n",
    "feature_train=standardized_training_data\n",
    "print(feature_train.shape)\n",
    "\n",
    "standardized_test_data=StandardScaler().fit_transform(feature_test)\n",
    "feature_test=standardized_test_data\n",
    "print(feature_test.shape)\n",
    "\n"
   ]
  },
  {
   "cell_type": "code",
   "execution_count": 18,
   "metadata": {},
   "outputs": [],
   "source": [
    "import numpy as np\n",
    "from keras.utils import np_utils \n",
    "import seaborn as sns\n",
    "from keras.initializers import RandomNormal\n",
    "from keras.models import Sequential\n",
    "from keras.layers import Dense\n",
    "from keras.layers import LSTM\n",
    "from keras.layers import Embedding\n",
    "from keras.preprocessing import sequence\n",
    "# fixed random seed for reproducibility\n",
    "np.random.seed(7)"
   ]
  },
  {
   "cell_type": "code",
   "execution_count": 19,
   "metadata": {},
   "outputs": [],
   "source": [
    "x_train1=feature_train\n",
    "x_test1=feature_test\n",
    "y_train1=labels_train\n",
    "y_test1=labels_test"
   ]
  },
  {
   "cell_type": "code",
   "execution_count": 20,
   "metadata": {},
   "outputs": [],
   "source": [
    "x_train1=x_train1.reshape(x_train1.shape[0],1,x_train1.shape[1])\n",
    "x_test1=x_test1.reshape(x_test1.shape[0],1,x_test1.shape[1])\n"
   ]
  },
  {
   "cell_type": "code",
   "execution_count": 21,
   "metadata": {},
   "outputs": [
    {
     "name": "stdout",
     "output_type": "stream",
     "text": [
      "Class label of first sample: 1\n",
      "After converting the output into a vector :  [0. 1.]\n"
     ]
    }
   ],
   "source": [
    "# here we are having a class number for each sample\n",
    "print(\"Class label of first sample:\",y_train1[83456])\n",
    "\n",
    "# lets convert this into a 10 dimensional vector\n",
    "# ex: consider an image is 5 convert it into 5 => [0, 0, 0, 0, 0, 1, 0, 0, 0, 0]\n",
    "\n",
    "#Y_train = np_utils.to_categorical(label_train, 2) \n",
    "#Y_test = np_utils.to_categorical(label_test, 2)\n",
    "\n",
    "Y_train = np_utils.to_categorical(y_train1)\n",
    "print(\"After converting the output into a vector : \",Y_train[83456])\n",
    "\n",
    "Y_test = np_utils.to_categorical(y_test1)"
   ]
  },
  {
   "cell_type": "code",
   "execution_count": 22,
   "metadata": {},
   "outputs": [
    {
     "name": "stdout",
     "output_type": "stream",
     "text": [
      "feature_train (87554, 1, 187)\n",
      "Y_train (87554, 2)\n",
      "feature_test (21892, 1, 187)\n",
      "Y_test (21892, 2)\n"
     ]
    }
   ],
   "source": [
    "print(\"feature_train\",x_train1.shape)\n",
    "print(\"Y_train\",Y_train.shape)\n",
    "print(\"feature_test\",x_test1.shape)\n",
    "print(\"Y_test\",Y_test.shape)"
   ]
  },
  {
   "cell_type": "code",
   "execution_count": 30,
   "metadata": {},
   "outputs": [],
   "source": [
    "output_dim = 2\n",
    "input_dim = feature_train.shape[1]\n",
    "\n",
    "batch_size = 512\n",
    "nb_epoch = 100\n",
    "\n",
    "model_lstm =Sequential()\n",
    "#model_lstm.add(Embedding)\n",
    "model_lstm.add(LSTM(100))\n",
    "model_lstm.add(Dense(output_dim, input_dim=input_dim, activation='softmax'))\n",
    "\n",
    "#model_lstm.summary()\n",
    "\n",
    "model_lstm.compile(loss='binary_crossentropy', optimizer='adam',metrics=['accuracy'])\n",
    "\n"
   ]
  },
  {
   "cell_type": "code",
   "execution_count": 24,
   "metadata": {},
   "outputs": [
    {
     "name": "stdout",
     "output_type": "stream",
     "text": [
      "WARNING:tensorflow:From C:\\ProgramData\\Anaconda3\\lib\\site-packages\\tensorflow\\python\\ops\\math_grad.py:1250: add_dispatch_support.<locals>.wrapper (from tensorflow.python.ops.array_ops) is deprecated and will be removed in a future version.\n",
      "Instructions for updating:\n",
      "Use tf.where in 2.0, which has the same broadcast rule as np.where\n",
      "WARNING:tensorflow:From C:\\ProgramData\\Anaconda3\\lib\\site-packages\\keras\\backend\\tensorflow_backend.py:422: The name tf.global_variables is deprecated. Please use tf.compat.v1.global_variables instead.\n",
      "\n",
      "Epoch 1/100\n",
      "87554/87554 [==============================] - 2s 28us/step - loss: 0.2228 - accuracy: 0.9213\n",
      "Epoch 2/100\n",
      "87554/87554 [==============================] - 2s 22us/step - loss: 0.1276 - accuracy: 0.9615\n",
      "Epoch 3/100\n",
      "87554/87554 [==============================] - 2s 22us/step - loss: 0.1042 - accuracy: 0.9673\n",
      "Epoch 4/100\n",
      "87554/87554 [==============================] - 2s 22us/step - loss: 0.0874 - accuracy: 0.9726\n",
      "Epoch 5/100\n",
      "87554/87554 [==============================] - 2s 22us/step - loss: 0.0770 - accuracy: 0.9759\n",
      "Epoch 6/100\n",
      "87554/87554 [==============================] - 2s 22us/step - loss: 0.0687 - accuracy: 0.9785\n",
      "Epoch 7/100\n",
      "87554/87554 [==============================] - 2s 21us/step - loss: 0.0622 - accuracy: 0.9808\n",
      "Epoch 8/100\n",
      "87554/87554 [==============================] - 2s 21us/step - loss: 0.0747 - accuracy: 0.9760\n",
      "Epoch 9/100\n",
      "87554/87554 [==============================] - 2s 21us/step - loss: 0.0571 - accuracy: 0.9825\n",
      "Epoch 10/100\n",
      "87554/87554 [==============================] - 2s 22us/step - loss: 0.0530 - accuracy: 0.9833\n",
      "Epoch 11/100\n",
      "87554/87554 [==============================] - 2s 21us/step - loss: 0.0502 - accuracy: 0.9841\n",
      "Epoch 12/100\n",
      "87554/87554 [==============================] - 2s 21us/step - loss: 0.0477 - accuracy: 0.9848\n",
      "Epoch 13/100\n",
      "87554/87554 [==============================] - 2s 21us/step - loss: 0.0452 - accuracy: 0.9857\n",
      "Epoch 14/100\n",
      "87554/87554 [==============================] - 2s 22us/step - loss: 0.0434 - accuracy: 0.9862\n",
      "Epoch 15/100\n",
      "87554/87554 [==============================] - 2s 22us/step - loss: 0.0412 - accuracy: 0.9868\n",
      "Epoch 16/100\n",
      "87554/87554 [==============================] - 2s 22us/step - loss: 0.0464 - accuracy: 0.9851\n",
      "Epoch 17/100\n",
      "87554/87554 [==============================] - 2s 22us/step - loss: 0.0388 - accuracy: 0.9875\n",
      "Epoch 18/100\n",
      "87554/87554 [==============================] - 2s 23us/step - loss: 0.0367 - accuracy: 0.9880\n",
      "Epoch 19/100\n",
      "87554/87554 [==============================] - 2s 23us/step - loss: 0.0348 - accuracy: 0.9889\n",
      "Epoch 20/100\n",
      "87554/87554 [==============================] - 2s 21us/step - loss: 0.0337 - accuracy: 0.9892\n",
      "Epoch 21/100\n",
      "87554/87554 [==============================] - 2s 22us/step - loss: 0.0322 - accuracy: 0.9898\n",
      "Epoch 22/100\n",
      "87554/87554 [==============================] - 2s 23us/step - loss: 0.0314 - accuracy: 0.9900\n",
      "Epoch 23/100\n",
      "87554/87554 [==============================] - 2s 22us/step - loss: 0.0299 - accuracy: 0.9908 0s - loss: 0.0301 - accuracy\n",
      "Epoch 24/100\n",
      "87554/87554 [==============================] - 2s 24us/step - loss: 0.0287 - accuracy: 0.9907\n",
      "Epoch 25/100\n",
      "87554/87554 [==============================] - 2s 23us/step - loss: 0.0275 - accuracy: 0.9913\n",
      "Epoch 26/100\n",
      "87554/87554 [==============================] - 2s 23us/step - loss: 0.0263 - accuracy: 0.9919\n",
      "Epoch 27/100\n",
      "87554/87554 [==============================] - 2s 22us/step - loss: 0.0257 - accuracy: 0.9918\n",
      "Epoch 28/100\n",
      "87554/87554 [==============================] - 2s 22us/step - loss: 0.0247 - accuracy: 0.9922\n",
      "Epoch 29/100\n",
      "87554/87554 [==============================] - 2s 22us/step - loss: 0.0239 - accuracy: 0.9929\n",
      "Epoch 30/100\n",
      "87554/87554 [==============================] - 2s 23us/step - loss: 0.0230 - accuracy: 0.9928\n",
      "Epoch 31/100\n",
      "87554/87554 [==============================] - 2s 22us/step - loss: 0.0216 - accuracy: 0.9934\n",
      "Epoch 32/100\n",
      "87554/87554 [==============================] - 2s 21us/step - loss: 0.0209 - accuracy: 0.9936\n",
      "Epoch 33/100\n",
      "87554/87554 [==============================] - 2s 21us/step - loss: 0.0200 - accuracy: 0.9939\n",
      "Epoch 34/100\n",
      "87554/87554 [==============================] - 3s 30us/step - loss: 0.0189 - accuracy: 0.9942\n",
      "Epoch 35/100\n",
      "87554/87554 [==============================] - 2s 25us/step - loss: 0.0229 - accuracy: 0.9926\n",
      "Epoch 36/100\n",
      "87554/87554 [==============================] - 2s 25us/step - loss: 0.0189 - accuracy: 0.9941\n",
      "Epoch 37/100\n",
      "87554/87554 [==============================] - 2s 28us/step - loss: 0.0178 - accuracy: 0.9947\n",
      "Epoch 38/100\n",
      "87554/87554 [==============================] - 2s 28us/step - loss: 0.0169 - accuracy: 0.9950\n",
      "Epoch 39/100\n",
      "87554/87554 [==============================] - 2s 27us/step - loss: 0.0161 - accuracy: 0.9952\n",
      "Epoch 40/100\n",
      "87554/87554 [==============================] - 2s 27us/step - loss: 0.0155 - accuracy: 0.9954\n",
      "Epoch 41/100\n",
      "87554/87554 [==============================] - 2s 28us/step - loss: 0.0149 - accuracy: 0.9955\n",
      "Epoch 42/100\n",
      "87554/87554 [==============================] - 3s 30us/step - loss: 0.0167 - accuracy: 0.9950\n",
      "Epoch 43/100\n",
      "87554/87554 [==============================] - 3s 30us/step - loss: 0.0155 - accuracy: 0.9955\n",
      "Epoch 44/100\n",
      "87554/87554 [==============================] - 3s 31us/step - loss: 0.0142 - accuracy: 0.9957\n",
      "Epoch 45/100\n",
      "87554/87554 [==============================] - 3s 32us/step - loss: 0.0133 - accuracy: 0.9961\n",
      "Epoch 46/100\n",
      "87554/87554 [==============================] - 3s 32us/step - loss: 0.0128 - accuracy: 0.9962\n",
      "Epoch 47/100\n",
      "87554/87554 [==============================] - 3s 33us/step - loss: 0.0121 - accuracy: 0.9967\n",
      "Epoch 48/100\n",
      "87554/87554 [==============================] - 3s 33us/step - loss: 0.0117 - accuracy: 0.9966\n",
      "Epoch 49/100\n",
      "87554/87554 [==============================] - 3s 34us/step - loss: 0.0119 - accuracy: 0.9963\n",
      "Epoch 50/100\n",
      "87554/87554 [==============================] - 3s 35us/step - loss: 0.0114 - accuracy: 0.9969\n",
      "Epoch 51/100\n",
      "87554/87554 [==============================] - 3s 34us/step - loss: 0.0114 - accuracy: 0.9968\n",
      "Epoch 52/100\n",
      "87554/87554 [==============================] - 3s 34us/step - loss: 0.0112 - accuracy: 0.9966\n",
      "Epoch 53/100\n",
      "87554/87554 [==============================] - 3s 34us/step - loss: 0.0120 - accuracy: 0.9964\n",
      "Epoch 54/100\n",
      "87554/87554 [==============================] - 3s 34us/step - loss: 0.0106 - accuracy: 0.9968\n",
      "Epoch 55/100\n",
      "87554/87554 [==============================] - 5s 61us/step - loss: 0.0097 - accuracy: 0.9973\n",
      "Epoch 56/100\n",
      "87554/87554 [==============================] - 5s 54us/step - loss: 0.0094 - accuracy: 0.9974\n",
      "Epoch 57/100\n",
      "87554/87554 [==============================] - 4s 47us/step - loss: 0.0141 - accuracy: 0.9958\n",
      "Epoch 58/100\n",
      "87554/87554 [==============================] - 4s 47us/step - loss: 0.0094 - accuracy: 0.9973 1s -\n",
      "Epoch 59/100\n",
      "87554/87554 [==============================] - 4s 41us/step - loss: 0.0087 - accuracy: 0.9974\n",
      "Epoch 60/100\n",
      "87554/87554 [==============================] - 6s 63us/step - loss: 0.0084 - accuracy: 0.9977\n",
      "Epoch 61/100\n",
      "87554/87554 [==============================] - 3s 38us/step - loss: 0.0083 - accuracy: 0.9977\n",
      "Epoch 62/100\n",
      "87554/87554 [==============================] - 3s 38us/step - loss: 0.0077 - accuracy: 0.9978\n",
      "Epoch 63/100\n",
      "87554/87554 [==============================] - 3s 40us/step - loss: 0.0077 - accuracy: 0.9979\n",
      "Epoch 64/100\n",
      "87554/87554 [==============================] - 3s 39us/step - loss: 0.0074 - accuracy: 0.9981 1s - loss: 0.0072 -  - E\n",
      "Epoch 65/100\n",
      "87554/87554 [==============================] - 3s 38us/step - loss: 0.0075 - accuracy: 0.9979\n",
      "Epoch 66/100\n",
      "87554/87554 [==============================] - 3s 38us/step - loss: 0.0256 - accuracy: 0.9920\n",
      "Epoch 67/100\n",
      "87554/87554 [==============================] - 3s 37us/step - loss: 0.0123 - accuracy: 0.9961\n",
      "Epoch 68/100\n",
      "87554/87554 [==============================] - 3s 39us/step - loss: 0.0097 - accuracy: 0.9970\n",
      "Epoch 69/100\n",
      "87554/87554 [==============================] - 3s 37us/step - loss: 0.0084 - accuracy: 0.9976\n",
      "Epoch 70/100\n",
      "87554/87554 [==============================] - 3s 37us/step - loss: 0.0077 - accuracy: 0.9979\n",
      "Epoch 71/100\n"
     ]
    },
    {
     "name": "stdout",
     "output_type": "stream",
     "text": [
      "87554/87554 [==============================] - 3s 39us/step - loss: 0.0076 - accuracy: 0.9979\n",
      "Epoch 72/100\n",
      "87554/87554 [==============================] - 3s 36us/step - loss: 0.0072 - accuracy: 0.9981\n",
      "Epoch 73/100\n",
      "87554/87554 [==============================] - 3s 39us/step - loss: 0.0291 - accuracy: 0.9920\n",
      "Epoch 74/100\n",
      "87554/87554 [==============================] - 3s 37us/step - loss: 0.0121 - accuracy: 0.9962\n",
      "Epoch 75/100\n",
      "87554/87554 [==============================] - 3s 37us/step - loss: 0.0095 - accuracy: 0.9973\n",
      "Epoch 76/100\n",
      "87554/87554 [==============================] - 4s 41us/step - loss: 0.0085 - accuracy: 0.9977\n",
      "Epoch 77/100\n",
      "87554/87554 [==============================] - 3s 39us/step - loss: 0.0075 - accuracy: 0.9980 0s - loss: 0.0075 - accuracy: 0.\n",
      "Epoch 78/100\n",
      "87554/87554 [==============================] - 3s 36us/step - loss: 0.0070 - accuracy: 0.9980\n",
      "Epoch 79/100\n",
      "87554/87554 [==============================] - 3s 38us/step - loss: 0.0067 - accuracy: 0.9983\n",
      "Epoch 80/100\n",
      "87554/87554 [==============================] - 3s 38us/step - loss: 0.0252 - accuracy: 0.9926 \n",
      "Epoch 81/100\n",
      "87554/87554 [==============================] - 3s 38us/step - loss: 0.0100 - accuracy: 0.9968\n",
      "Epoch 82/100\n",
      "87554/87554 [==============================] - 3s 40us/step - loss: 0.0080 - accuracy: 0.9977\n",
      "Epoch 83/100\n",
      "87554/87554 [==============================] - 3s 39us/step - loss: 0.0070 - accuracy: 0.9982\n",
      "Epoch 84/100\n",
      "87554/87554 [==============================] - 3s 35us/step - loss: 0.0068 - accuracy: 0.9981\n",
      "Epoch 85/100\n",
      "87554/87554 [==============================] - 3s 35us/step - loss: 0.0064 - accuracy: 0.9984\n",
      "Epoch 86/100\n",
      "87554/87554 [==============================] - 3s 35us/step - loss: 0.0061 - accuracy: 0.9984\n",
      "Epoch 87/100\n",
      "87554/87554 [==============================] - 3s 38us/step - loss: 0.0060 - accuracy: 0.9985\n",
      "Epoch 88/100\n",
      "87554/87554 [==============================] - 3s 36us/step - loss: 0.0079 - accuracy: 0.9981\n",
      "Epoch 89/100\n",
      "87554/87554 [==============================] - 3s 38us/step - loss: 0.0058 - accuracy: 0.9986\n",
      "Epoch 90/100\n",
      "87554/87554 [==============================] - 3s 37us/step - loss: 0.0164 - accuracy: 0.9956\n",
      "Epoch 91/100\n",
      "87554/87554 [==============================] - 4s 41us/step - loss: 0.0069 - accuracy: 0.9981\n",
      "Epoch 92/100\n",
      "87554/87554 [==============================] - 3s 38us/step - loss: 0.0059 - accuracy: 0.9985\n",
      "Epoch 93/100\n",
      "87554/87554 [==============================] - 3s 37us/step - loss: 0.0057 - accuracy: 0.9986\n",
      "Epoch 94/100\n",
      "87554/87554 [==============================] - 3s 35us/step - loss: 0.0053 - accuracy: 0.9987\n",
      "Epoch 95/100\n",
      "87554/87554 [==============================] - 3s 35us/step - loss: 0.0050 - accuracy: 0.9986\n",
      "Epoch 96/100\n",
      "87554/87554 [==============================] - 3s 36us/step - loss: 0.0046 - accuracy: 0.9990\n",
      "Epoch 97/100\n",
      "87554/87554 [==============================] - 3s 35us/step - loss: 0.0046 - accuracy: 0.9990\n",
      "Epoch 98/100\n",
      "87554/87554 [==============================] - 3s 35us/step - loss: 0.0047 - accuracy: 0.9988\n",
      "Epoch 99/100\n",
      " 5120/87554 [>.............................] - ETA: 11s - loss: 0.0047 - accuracy: 0.9982"
     ]
    },
    {
     "name": "stderr",
     "output_type": "stream",
     "text": [
      "C:\\ProgramData\\Anaconda3\\lib\\site-packages\\keras\\callbacks\\callbacks.py:95: RuntimeWarning: Method (on_train_batch_end) is slow compared to the batch update (0.491664). Check your callbacks.\n",
      "  % (hook_name, delta_t_median), RuntimeWarning)\n",
      "C:\\ProgramData\\Anaconda3\\lib\\site-packages\\keras\\callbacks\\callbacks.py:95: RuntimeWarning: Method (on_train_batch_end) is slow compared to the batch update (0.245832). Check your callbacks.\n",
      "  % (hook_name, delta_t_median), RuntimeWarning)\n"
     ]
    },
    {
     "name": "stdout",
     "output_type": "stream",
     "text": [
      "87554/87554 [==============================] - 3s 38us/step - loss: 0.0046 - accuracy: 0.9989\n",
      "Epoch 100/100\n",
      "87554/87554 [==============================] - 3s 33us/step - loss: 0.0048 - accuracy: 0.9988\n"
     ]
    },
    {
     "data": {
      "text/plain": [
       "<keras.callbacks.callbacks.History at 0x1820877afd0>"
      ]
     },
     "execution_count": 24,
     "metadata": {},
     "output_type": "execute_result"
    }
   ],
   "source": [
    "\n",
    "model_lstm.fit(x_train1, Y_train, epochs=100,batch_size=512)\n"
   ]
  },
  {
   "cell_type": "code",
   "execution_count": 25,
   "metadata": {},
   "outputs": [],
   "source": [
    "predictions=model_lstm.predict(x_test1)"
   ]
  },
  {
   "cell_type": "code",
   "execution_count": 26,
   "metadata": {},
   "outputs": [
    {
     "name": "stdout",
     "output_type": "stream",
     "text": [
      "              precision    recall  f1-score   support\n",
      "\n",
      "           0       0.99      0.99      0.99     18118\n",
      "           1       0.96      0.94      0.95      3774\n",
      "\n",
      "    accuracy                           0.98     21892\n",
      "   macro avg       0.98      0.97      0.97     21892\n",
      "weighted avg       0.98      0.98      0.98     21892\n",
      "\n"
     ]
    }
   ],
   "source": [
    "print(classification_report(Y_test.argmax(axis=1), predictions.argmax(axis=1)))"
   ]
  },
  {
   "cell_type": "code",
   "execution_count": 27,
   "metadata": {},
   "outputs": [
    {
     "name": "stdout",
     "output_type": "stream",
     "text": [
      "[[1.0000000e+00 1.1494964e-08]\n",
      " [9.9977666e-01 2.2334202e-04]\n",
      " [9.9998641e-01 1.3590924e-05]\n",
      " ...\n",
      " [3.8419662e-06 9.9999619e-01]\n",
      " [3.4446709e-14 1.0000000e+00]\n",
      " [7.3555240e-10 1.0000000e+00]]\n",
      "Type\tCount\n",
      "0    18217\n",
      "1     3675\n",
      "Name: col, dtype: int64\n"
     ]
    }
   ],
   "source": [
    "print(predictions)\n",
    "a=predictions.argmax(axis=1)     # 0 is row and 1 is column\n",
    "#print(a)\n",
    "\n",
    "#create new df \n",
    "a = pd.DataFrame({'col':a})\n",
    "\n",
    "print(\"Type\\tCount\")\n",
    "print((a['col']).value_counts())"
   ]
  },
  {
   "cell_type": "code",
   "execution_count": 28,
   "metadata": {},
   "outputs": [],
   "source": [
    "\n",
    "\n",
    "#                 precision    recall  f1-score   \n",
    "#           0       0.99      0.99      0.99     \n",
    "#           1       0.96      0.94      0.95      \n",
    "\n",
    "#    accuracy  : 0.98     \n",
    " "
   ]
  },
  {
   "cell_type": "code",
   "execution_count": null,
   "metadata": {},
   "outputs": [],
   "source": []
  }
 ],
 "metadata": {
  "kernelspec": {
   "display_name": "Python 3",
   "language": "python",
   "name": "python3"
  },
  "language_info": {
   "codemirror_mode": {
    "name": "ipython",
    "version": 3
   },
   "file_extension": ".py",
   "mimetype": "text/x-python",
   "name": "python",
   "nbconvert_exporter": "python",
   "pygments_lexer": "ipython3",
   "version": "3.7.3"
  }
 },
 "nbformat": 4,
 "nbformat_minor": 2
}
